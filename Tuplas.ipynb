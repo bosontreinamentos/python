{
 "cells": [
  {
   "cell_type": "markdown",
   "metadata": {},
   "source": [
    "## Tuplas\n",
    "Tuplas são muito parecidas com listas, senso sequências (coleções de itens) indexadas a partir de zero, porém com algumas diferenças:\n",
    "- A criação de tuplas usa parênteses em vez de colchetes\n",
    "- As tuplas são imutáveis, ou seja, não podem ser modificadas in loco - não é possível alterar seu conteúdo após terem sido criadas (assim como as strings).\n",
    "\n",
    "As tuplas são usadas com frequência em funções que retornam valores múltiplos."
   ]
  },
  {
   "cell_type": "code",
   "execution_count": null,
   "metadata": {},
   "outputs": [],
   "source": [
    "# Criando tuplas\n",
    "val = (2, 6, 9, 3)\n",
    "# ou\n",
    "val = 2, 6, 9, 3\n",
    "\n",
    "# Isso gera um erro, pois as tuplas são imutáveis:\n",
    "val[0] = 4"
   ]
  },
  {
   "cell_type": "code",
   "execution_count": 4,
   "metadata": {},
   "outputs": [
    {
     "data": {
      "text/plain": [
       "tuple"
      ]
     },
     "execution_count": 4,
     "metadata": {},
     "output_type": "execute_result"
    }
   ],
   "source": [
    "# Criar uma tupla com um elemento\n",
    "val = (3,) # Note a vírgula após o valor do elemento. Sem ela, seria criada uma variável simples.\n",
    "#val = (3) # Isso cria uma variável val com valor inteiro igual a 3.\n",
    "type(val)"
   ]
  },
  {
   "cell_type": "markdown",
   "metadata": {},
   "source": [
    "Devido à sua imutabilidade, não é possível realizar determinadas operações com tuplas, tais como:\n",
    "- Método append()\n",
    "- Método sort()\n",
    "- Método reverse()"
   ]
  },
  {
   "cell_type": "markdown",
   "metadata": {},
   "source": [
    "## Eficiência das Tuplas\n",
    "\n",
    "Como as listas não precisam ser modificáveis, sua estrutura de dados é mais simples e mais eficiente em termos de uso de memória e performance do que as listas."
   ]
  }
 ],
 "metadata": {
  "kernelspec": {
   "display_name": "Python 3",
   "language": "python",
   "name": "python3"
  },
  "language_info": {
   "codemirror_mode": {
    "name": "ipython",
    "version": 3
   },
   "file_extension": ".py",
   "mimetype": "text/x-python",
   "name": "python",
   "nbconvert_exporter": "python",
   "pygments_lexer": "ipython3",
   "version": "3.8.5"
  }
 },
 "nbformat": 4,
 "nbformat_minor": 4
}
