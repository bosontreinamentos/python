{
 "cells": [
  {
   "cell_type": "markdown",
   "metadata": {},
   "source": [
    "## Coleções em Python e a classe Counter\n",
    "\n",
    "Coleções em Python são contêineres empregados para o armazenamento de dados com estruturas como Dicionários, Listas, Tuplas e Conjuntos.\n",
    "\n",
    "Neste tutorial vamos tratar especificamente da classe Counter do módulo collections."
   ]
  },
  {
   "cell_type": "markdown",
   "metadata": {},
   "source": [
    "### A classe Counter\n",
    "\n",
    "A classe Counter é uma subclasse  da classe dict (dicionários) que permite realizar a contagem de objetos hasheáveis. Trata-se de uma coleção na qual os elementos estão armazenados como chaves de um dicionário, e suas contagens como os valores associados a essas chaves.\n",
    "\n",
    "Os elementos são mostrados em ordem decrescente de frequência de ocorrência."
   ]
  },
  {
   "cell_type": "code",
   "execution_count": 9,
   "metadata": {
    "scrolled": true
   },
   "outputs": [
    {
     "name": "stdout",
     "output_type": "stream",
     "text": [
      "Counter()\n",
      "Counter({2: 3, 3: 2, 6: 2, 4: 1, 1: 1, 5: 1})\n",
      "Counter({'O': 6, 'A': 4, 'B': 3, 'N': 2})\n",
      "Counter({'b': 18, 'a': 9})\n",
      "Contagem de c1: 2\n",
      "Counter({2: 3, 3: 2, 4: 1, 1: 1, 5: 1})\n"
     ]
    }
   ],
   "source": [
    "from collections import Counter\n",
    "\n",
    "# Criar um objeto contador vazio\n",
    "c = Counter()\n",
    "print (c)\n",
    "\n",
    "# Passamos uma lista para contagem dos elementos em um contador\n",
    "c1 = Counter([2,4,3,6,2,1,3,6,5,2])\n",
    "\n",
    "#As chaves mostram os elementos e os valores, suas frequências:\n",
    "print (c1)\n",
    "\n",
    "# Os elementos podem ser de qualquer tipo, como caracteres. Podemos passar também\n",
    "# um mapeamento de itens em vez de uma lista para contagem:\n",
    "c2 = Counter({'B':3,'O':6,'N':2,'A':4})\n",
    "print (c2)\n",
    "\n",
    "# Ou ainda pasar os elementos separados por vírgulas\n",
    "c3 = Counter(a=9,b=18)\n",
    "print (c3)\n",
    "\n",
    "# Podemos contar as ocorrências de um elemento em particular\n",
    "print('Contagem de c1:',c1[6])\n",
    "\n",
    "# Ou ainda excluir um elemento do objeto contador\n",
    "del c1[6]\n",
    "print(c1)"
   ]
  },
  {
   "cell_type": "code",
   "execution_count": 30,
   "metadata": {},
   "outputs": [
    {
     "name": "stdout",
     "output_type": "stream",
     "text": [
      "Counter({'n': 3, 's': 2, 'o': 2, 'e': 2, 'B': 1, 'ó': 1, ' ': 1, 'T': 1, 'r': 1, 'i': 1, 'a': 1, 'm': 1, 't': 1})\n"
     ]
    }
   ],
   "source": [
    "# Contar caracteres em uma string\n",
    "\n",
    "from collections import Counter\n",
    "\n",
    "texto = 'Bóson Treinamentos'\n",
    "ctx = Counter(texto)\n",
    "print(ctx)"
   ]
  },
  {
   "cell_type": "markdown",
   "metadata": {},
   "source": [
    "## Acessar a contagem de um elemento\n",
    "\n",
    "Podemos acessar a contagem de um elemento em particular em um objeto Counter usando o elemento como índice de acesso. Por exemplo, para saber a contagem de um elemento de nome 'Maçã' em um contador cFrutas, podemos executar:\n",
    "\n",
    "cFrutas['Maçã']\n",
    "\n",
    "Isso retornará a quantidade de ocorrências do elemento específico Maçã no objeto Counter."
   ]
  },
  {
   "cell_type": "code",
   "execution_count": 37,
   "metadata": {},
   "outputs": [
    {
     "name": "stdout",
     "output_type": "stream",
     "text": [
      "Ocorrências do elemento E: 3\n",
      "Ocorrências do elemento H: 0\n"
     ]
    }
   ],
   "source": [
    "# Acessar um elemento específico e sua contagem\n",
    "\n",
    "from collections import Counter\n",
    "\n",
    "# Criar um contador\n",
    "c1 = Counter(('A','A','B','C','A','D','E','A','D','E','D','B','C','A','D','E','D','B'))\n",
    "print('Ocorrências do elemento E: {}'.format(c1['E']))\n",
    "\n",
    "# Acesso a elemento não existente (retorna valor zero)\n",
    "print('Ocorrências do elemento H: {}'.format(c1['H']))"
   ]
  },
  {
   "cell_type": "markdown",
   "metadata": {},
   "source": [
    "## Métodos do objeto contador\n",
    "\n",
    "Além dos métodos disponíveis para dicionários comuns, como o método update(), um Counter também suporta os seguintes métodos:\n",
    "\n",
    "- elements()\n",
    "- most_common(n)\n",
    "- subtract(iterável ou mapeamento)"
   ]
  },
  {
   "cell_type": "code",
   "execution_count": 40,
   "metadata": {},
   "outputs": [
    {
     "name": "stdout",
     "output_type": "stream",
     "text": [
      "['B', 'B', 'B', 'O', 'O', 'O', 'O', 'O', 'O', 'N', 'N', 'A', 'A', 'A', 'A', 'F', 'F', 'F', 'F', 'F', 'F', 'F', 'F', 'I', 'I', 'I', 'I', 'I', 'I', 'I', 'I', 'I', 'I', 'D', 'D', 'E']\n"
     ]
    }
   ],
   "source": [
    "# 1. Método elements()\n",
    "# O método elements() permite listar todos os elementos em um objeto contador.\n",
    "# Retorna um objeto iterável contendo os valores do objeto Counter.\n",
    "# O iterador retornado pode ser passado para ua outra função, como por exemplo preencher uma lista.\n",
    "\n",
    "from collections import Counter\n",
    "\n",
    "# Criar contador\n",
    "c1 = Counter({'B':3,'O':6,'N':2,'A':4,'F':8,'I':10,'D':2,'E':1})\n",
    "itens = list(c1.elements())\n",
    "print(itens)\n",
    "\n",
    "# Os elementos são retornados na ordem em que aparecem no contador, e não em ordem decrescente de frequências.\n"
   ]
  },
  {
   "cell_type": "code",
   "execution_count": 72,
   "metadata": {},
   "outputs": [
    {
     "name": "stdout",
     "output_type": "stream",
     "text": [
      "2 5\n",
      "4 2\n",
      "3 3\n",
      "6 2\n",
      "1 1\n",
      "5 1\n"
     ]
    }
   ],
   "source": [
    "# Imprimir cada elemento com sua contagem, em forma de tabela\n",
    "\n",
    "from collections import Counter\n",
    "\n",
    "# Criar contador a partir de lista\n",
    "c1 = Counter([2,4,3,6,2,1,3,6,5,2,2,3,4,2])\n",
    "\n",
    "# Imprimir elementos e frequências\n",
    "for k,v in c1.items():\n",
    "         print(k,v)"
   ]
  },
  {
   "cell_type": "code",
   "execution_count": 1,
   "metadata": {},
   "outputs": [
    {
     "name": "stdout",
     "output_type": "stream",
     "text": [
      "[(2, 5)]\n",
      "[(2, 5), (3, 3), (4, 2), (6, 2), (1, 1), (5, 1), (8, 1)]\n",
      "[1, 5, 8]\n",
      "['Espanha', 'Inglaterra']\n"
     ]
    }
   ],
   "source": [
    "# 2. Método most_common(n)\n",
    "# Retorna a lista dos n objetos mais comuns no contador, com sua contagem, do mais \n",
    "# comum para o menos comum. Se n for omitido, todos os elementos são retornados.\n",
    "\n",
    "from collections import Counter\n",
    "\n",
    "# Criar contador a partir de lista\n",
    "c1 = Counter([2,4,3,6,2,1,3,6,5,2,2,3,4,2,8])\n",
    "\n",
    "# Retornar o elemento com mais ocorrências\n",
    "mais_comum = c1.most_common(1)\n",
    "print(mais_comum)\n",
    "\n",
    "# Retornar todos os elementos com suas ocorrências\n",
    "cont_elem = c1.most_common()\n",
    "print(cont_elem)\n",
    "\n",
    "# Retornar o elemento com menos ocorrências (eu que bolei esse algoritmo!)\n",
    "menos_comum = [k for k,v in c1.items() if v == c1.most_common()[-1][1]]\n",
    "print(menos_comum)\n",
    "# Aqui, usei uma compreensão de lista para iterar pelos elementos e valores de c1, retornando\n",
    "# apenas os elementos (chaves k) quando o valor (frequência v) for igual ao menor valor encontrado\n",
    "# usando o método most_common() e extraindo o valor da tupla retornada ([-1][1] - último item, segundo valor da tupla).\n",
    "\n",
    "# Exemplo #2: Dos países que ganharam Copas do Mundo, retornar os que menos títulos ganharam\n",
    "# Criar contador\n",
    "c2 = Counter({'Alemanha':4,'Argentina':2,'Brasil':5,'Espanha':1,'França':2,'Inglaterra':1,'Itália':4,'Uruguai':2})\n",
    "menos_comum = [k for k,v in c2.items() if v == c2.most_common()[-1][1]]\n",
    "print(menos_comum)"
   ]
  },
  {
   "cell_type": "code",
   "execution_count": 16,
   "metadata": {},
   "outputs": [
    {
     "name": "stdout",
     "output_type": "stream",
     "text": [
      "Counter({'B': 4, 'C': 3, 'D': 3, 'G': 3, 'E': 2, 'A': 0, 'F': -3})\n"
     ]
    }
   ],
   "source": [
    "# 3. Método subtract(iterável ou mapeamento)\n",
    "# Os elementos são subtraídos de um iterável ou de outro mapeamento ou contador.\n",
    "\n",
    "from collections import Counter\n",
    "\n",
    "# Criar contador 1 a partir de um dicionário\n",
    "c1 = Counter({'A':2,'B':4,'C':3,'D':6,'E':2,'F':1,'G':3})\n",
    "# Criar contador 2\n",
    "c2 = Counter({'A':2,'D':3,'F':4})\n",
    "\n",
    "# Subtrair as contagens de c2 de elementos similares em c1\n",
    "c1.subtract(c2)\n",
    "print(c1)"
   ]
  },
  {
   "cell_type": "code",
   "execution_count": 29,
   "metadata": {},
   "outputs": [
    {
     "name": "stdout",
     "output_type": "stream",
     "text": [
      "Counter({'f': 10, 'e': 9, 'c': 8, 'd': 7, 'b': 5, 'a': 4})\n"
     ]
    }
   ],
   "source": [
    "# 4. Método update()\n",
    "# O método Update() acrescenta novos elementos ao contador se a chave fornecida \n",
    "# não estiver presente no dicionário. Se achave existir (elemento já existe), seu \n",
    "# valor é atualizado.\n",
    "\n",
    "from collections import Counter\n",
    "\n",
    "# Criar contadores\n",
    "u1=Counter({'a':3,'b':1,'c':8,'d':7})\n",
    "u2=Counter({'a':1,'b':4,'e':9,'f':10})\n",
    "\n",
    "# Atualizar o conteúdo de u1 com base nos valores de u2\n",
    "u1.update(u2)\n",
    "print(u1)"
   ]
  },
  {
   "cell_type": "markdown",
   "metadata": {},
   "source": [
    "## Funções de conversão\n",
    "Podemos converter um objeto contador para outro tipo de coleção por meio de funções e métodos específicos. São eles:\n",
    "\n",
    "- list() - Converte um objeto Counter para um objeto List (lista), contendo os elementos do contador sem repetição.\n",
    "- dict() - Converte um objeto Counter para um objeto Dictionary (dicionário normal), contendo os elementos do contador\n",
    "- items() - Método que converte um objeto Counter para uma lista de tuplas, contendo pares no formato (elemento,contagem)\n",
    "- set() - Converte um objeto Counter para um objeto Set (conjunto), contendo os elementos do contador"
   ]
  },
  {
   "cell_type": "code",
   "execution_count": 26,
   "metadata": {},
   "outputs": [
    {
     "name": "stdout",
     "output_type": "stream",
     "text": [
      "Contador:\n",
      "Counter({'f': 10, 'e': 9, 'b': 4, 'a': 1})\n",
      "\n",
      "['a', 'b', 'e', 'f']\n",
      "{'a': 1, 'b': 4, 'e': 9, 'f': 10}\n",
      "{'b', 'f', 'e', 'a'}\n",
      "dict_items([('a', 1), ('b', 4), ('e', 9), ('f', 10)])\n"
     ]
    }
   ],
   "source": [
    "# Convertendo contadores\n",
    "\n",
    "from collections import Counter\n",
    "u2 = Counter(['a','b','e','f','b','e','f','b','e','f','b','e','f','e','f','e','f','e','f','e','f','e','f','f'])\n",
    "print('Contador:\\n{}\\n'.format(u2))\n",
    "\n",
    "# Retornar elementos como lista\n",
    "print(list(u2))\n",
    "\n",
    "# Retornar elementos como dicionário comum\n",
    "print(dict(u2))\n",
    "\n",
    "# Retornar elementos como conjunto\n",
    "print(set(u2))\n",
    "\n",
    "# Retornar elementos como lista de tuplas\n",
    "print(u2.items())"
   ]
  },
  {
   "cell_type": "markdown",
   "metadata": {},
   "source": [
    "## Contagem total de elementos\n",
    "\n",
    "Podemos obter a contagem total dos elementos de um objeto contador usando a função sum() combinada com o método values():"
   ]
  },
  {
   "cell_type": "code",
   "execution_count": 27,
   "metadata": {},
   "outputs": [
    {
     "name": "stdout",
     "output_type": "stream",
     "text": [
      "Total de elementos:24\n"
     ]
    }
   ],
   "source": [
    "from collections import Counter\n",
    "u2 = Counter(['a','b','e','f','b','e','f','b','e','f','b','e','f','e','f','e','f','e','f','e','f','e','f','f'])\n",
    "\n",
    "soma = sum(u2.values())\n",
    "print('Total de elementos:{}'.format(soma))"
   ]
  },
  {
   "cell_type": "markdown",
   "metadata": {},
   "source": [
    "### Documentação oficial dos objetos Counter:\n",
    "https://docs.python.org/3.8/library/collections.html#counter-objects"
   ]
  }
 ],
 "metadata": {
  "kernelspec": {
   "display_name": "Python 3",
   "language": "python",
   "name": "python3"
  },
  "language_info": {
   "codemirror_mode": {
    "name": "ipython",
    "version": 3
   },
   "file_extension": ".py",
   "mimetype": "text/x-python",
   "name": "python",
   "nbconvert_exporter": "python",
   "pygments_lexer": "ipython3",
   "version": "3.7.3"
  }
 },
 "nbformat": 4,
 "nbformat_minor": 2
}
