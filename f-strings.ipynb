{
 "cells": [
  {
   "cell_type": "markdown",
   "id": "3c24db42",
   "metadata": {},
   "source": [
    "# f-strings em Python\n",
    "\n",
    "As f-strings (também conhecidas como formatted string literals) são uma funcionalidade introduzida na versão 3.6 do Python. Elas oferecem uma maneira mais simples e legível de formatar strings, tornando a concatenação de variáveis e valores em strings mais fácil e eficiente.\n",
    "\n",
    "A principal característica das f-strings é a utilização do prefixo **f** antes das aspas que delimitam a string. Dentro de uma f-string, podemos inserir expressões entre chaves {} que serão avaliadas e substituídas pelo seu valor na string final.\n",
    "\n",
    "As f-strings foram introduzidas no Python com a PEP 498:\n",
    "https://peps.python.org/pep-0498/\n"
   ]
  },
  {
   "cell_type": "markdown",
   "id": "da6bf6fd",
   "metadata": {},
   "source": [
    "## Exemplos"
   ]
  },
  {
   "cell_type": "code",
   "execution_count": 2,
   "id": "bec1b19a",
   "metadata": {},
   "outputs": [
    {
     "name": "stdout",
     "output_type": "stream",
     "text": [
      "Fala pessoal!, meu nome é Fábio e eu tenho 47 anos.\n"
     ]
    }
   ],
   "source": [
    "# Exemplo de f-string em Python\n",
    "nome = \"Fábio\"\n",
    "idade = 47\n",
    "\n",
    "mensagem = f\"Fala pessoal!, meu nome é {nome} e eu tenho {idade} anos.\"\n",
    "print(mensagem)\n"
   ]
  },
  {
   "cell_type": "code",
   "execution_count": 20,
   "id": "16f99101",
   "metadata": {},
   "outputs": [
    {
     "name": "stdout",
     "output_type": "stream",
     "text": [
      "A soma de 10 e 5 é igual a 15.\n"
     ]
    }
   ],
   "source": [
    "# Exemplo de expressões dentro de uma f-string\n",
    "a = 10\n",
    "b = 5\n",
    "\n",
    "#resultado = f\"A soma de {a} e {b} é igual a {a + b}.\"\n",
    "print(f\"A soma de {a} e {b} é igual a {a + b}.\")\n"
   ]
  },
  {
   "cell_type": "code",
   "execution_count": 4,
   "id": "3d4b801b",
   "metadata": {},
   "outputs": [
    {
     "name": "stdout",
     "output_type": "stream",
     "text": [
      "O valor é: 1234.57\n"
     ]
    }
   ],
   "source": [
    "# Exemplo de formatação de números com f-string\n",
    "valor = 1234.56789\n",
    "\n",
    "mensagem = f\"O valor é: {valor:.2f}\"  # Limita o número de casas decimais para 2, arredondando.\n",
    "print(mensagem)\n"
   ]
  },
  {
   "cell_type": "markdown",
   "id": "16eabd77",
   "metadata": {},
   "source": [
    "## Saída de múltiplas linhas"
   ]
  },
  {
   "cell_type": "code",
   "execution_count": 5,
   "id": "d5f50708",
   "metadata": {},
   "outputs": [
    {
     "name": "stdout",
     "output_type": "stream",
     "text": [
      "\n",
      "Olá Fábio,\n",
      "\n",
      "Bem-vindo(a) ao nosso sistema!\n",
      "\n",
      "Aqui estão algumas informações sobre você:\n",
      "- Idade: 47 anos\n",
      "- Profissão: analista de sistemas\n",
      "\n",
      "Esperamos que você aproveite nossa plataforma!\n",
      "\n",
      "Atenciosamente,\n",
      "A equipe do sistema\n",
      "\n"
     ]
    }
   ],
   "source": [
    "# Exemplo de f-string para saída de múltiplas linhas\n",
    "nome = \"Fábio\"\n",
    "idade = 47\n",
    "profissao = \"analista de sistemas\"\n",
    "\n",
    "mensagem = f\"\"\"\n",
    "Olá {nome},\n",
    "\n",
    "Bem-vindo(a) ao nosso sistema!\n",
    "\n",
    "Aqui estão algumas informações sobre você:\n",
    "- Idade: {idade} anos\n",
    "- Profissão: {profissao}\n",
    "\n",
    "Esperamos que você aproveite nossa plataforma!\n",
    "\n",
    "Atenciosamente,\n",
    "A equipe do sistema\n",
    "\"\"\"\n",
    "\n",
    "print(mensagem)\n"
   ]
  },
  {
   "cell_type": "markdown",
   "id": "1a2cf207",
   "metadata": {},
   "source": [
    "## Usando dicionários"
   ]
  },
  {
   "cell_type": "code",
   "execution_count": 6,
   "id": "c403c6dd",
   "metadata": {},
   "outputs": [
    {
     "name": "stdout",
     "output_type": "stream",
     "text": [
      "Olá, meu nome é João, tenho 30 anos e sou programador.\n"
     ]
    }
   ],
   "source": [
    "# Exemplo de f-string com dicionário\n",
    "pessoa = {\n",
    "    \"nome\": \"João\",\n",
    "    \"idade\": 30,\n",
    "    \"profissao\": \"programador\"\n",
    "}\n",
    "\n",
    "mensagem = f\"Olá, meu nome é {pessoa['nome']}, tenho {pessoa['idade']} anos e sou {pessoa['profissao']}.\"\n",
    "\n",
    "print(mensagem)\n"
   ]
  },
  {
   "cell_type": "markdown",
   "id": "4dbc01a0",
   "metadata": {},
   "source": [
    "## Caracteres de escape em f-strings"
   ]
  },
  {
   "cell_type": "code",
   "execution_count": 7,
   "id": "07e2a73f",
   "metadata": {},
   "outputs": [
    {
     "name": "stdout",
     "output_type": "stream",
     "text": [
      "Olá, João!\n",
      "Bem-vindo ao nosso sistema.\n"
     ]
    }
   ],
   "source": [
    "# Exemplo de uso de quebra de linha com \\n em f-string\n",
    "nome = \"João\"\n",
    "mensagem = f\"Olá, {nome}!\\nBem-vindo ao nosso sistema.\"\n",
    "print(mensagem)\n"
   ]
  },
  {
   "cell_type": "code",
   "execution_count": 8,
   "id": "f073d198",
   "metadata": {},
   "outputs": [
    {
     "name": "stdout",
     "output_type": "stream",
     "text": [
      "Ele disse: \"Isso é incrível!\"\n"
     ]
    }
   ],
   "source": [
    "# Exemplo de uso de aspas dentro da f-string com \\\"\n",
    "mensagem = f\"Ele disse: \\\"Isso é incrível!\\\"\"\n",
    "print(mensagem)\n"
   ]
  },
  {
   "cell_type": "code",
   "execution_count": 9,
   "id": "1a690fdd",
   "metadata": {},
   "outputs": [
    {
     "name": "stdout",
     "output_type": "stream",
     "text": [
      "Caminho do arquivo: C:\\Users\\Joao\\Documents\\arquivo.txt\n"
     ]
    }
   ],
   "source": [
    "# Barra invertida com f-string\n",
    "path = \"C:\\\\Users\\\\Joao\\\\Documents\\\\arquivo.txt\"\n",
    "mensagem = f\"Caminho do arquivo: {path}\"\n",
    "print(mensagem)\n"
   ]
  },
  {
   "cell_type": "code",
   "execution_count": 12,
   "id": "7ff5bb34",
   "metadata": {},
   "outputs": [
    {
     "name": "stdout",
     "output_type": "stream",
     "text": [
      "Nome:\tJoão\n",
      "Idade:\t30\n"
     ]
    }
   ],
   "source": [
    "# Tabulação com \\t em f-string\n",
    "nome = \"João\"\n",
    "mensagem = f\"Nome:\\t{nome}\\nIdade:\\t30\"\n",
    "print(mensagem)\n"
   ]
  },
  {
   "cell_type": "markdown",
   "id": "50271710",
   "metadata": {},
   "source": [
    "## Funções em f-string\n",
    "Podemos chamar funções diretamente dentro das chaves {} de uma f-string para obter o resultado da função formatado na string. Aqui estão alguns exemplos de como usar funções em f-strings:"
   ]
  },
  {
   "cell_type": "code",
   "execution_count": 15,
   "id": "94fa8c92",
   "metadata": {},
   "outputs": [
    {
     "name": "stdout",
     "output_type": "stream",
     "text": [
      "Olá, Mariana! Seu nome tem 7 letras.\n"
     ]
    }
   ],
   "source": [
    "# Exemplo usando função embutida len() em uma f-string\n",
    "nome = \"Mariana\"\n",
    "mensagem = f\"Olá, {nome}! Seu nome tem {len(nome)} letras.\"\n",
    "print(mensagem)\n"
   ]
  },
  {
   "cell_type": "code",
   "execution_count": 16,
   "id": "3f6ec002",
   "metadata": {},
   "outputs": [
    {
     "name": "stdout",
     "output_type": "stream",
     "text": [
      "O dobro de 10 é 20.\n"
     ]
    }
   ],
   "source": [
    "# Exemplo usando uma função definida pelo usuário em uma f-string\n",
    "def calcular_dobro(numero):\n",
    "    return numero * 2\n",
    "\n",
    "valor = 10\n",
    "mensagem = f\"O dobro de {valor} é {calcular_dobro(valor)}.\"\n",
    "print(mensagem)\n"
   ]
  },
  {
   "cell_type": "code",
   "execution_count": 17,
   "id": "6343428b",
   "metadata": {},
   "outputs": [
    {
     "name": "stdout",
     "output_type": "stream",
     "text": [
      "Os nomes concatenados são: Ada e Alan.\n"
     ]
    }
   ],
   "source": [
    "# Função com múltiplos parâmetros em uma f-string\n",
    "def concatenar_nomes(nome1, nome2):\n",
    "    return f\"{nome1} e {nome2}\"\n",
    "\n",
    "nome_1 = \"Ada\"\n",
    "nome_2 = \"Alan\"\n",
    "mensagem = f\"Os nomes concatenados são: {concatenar_nomes(nome_1, nome_2)}.\"\n",
    "print(mensagem)\n"
   ]
  },
  {
   "cell_type": "code",
   "execution_count": 18,
   "id": "78f4f672",
   "metadata": {},
   "outputs": [
    {
     "name": "stdout",
     "output_type": "stream",
     "text": [
      "Olá, ALICE. Bem-vindo(a)!\n"
     ]
    }
   ],
   "source": [
    "# Exemplo usando função de formatação em uma f-string\n",
    "def formatar_nome(nome):\n",
    "    return nome.upper()\n",
    "\n",
    "nome = \"Alice\"\n",
    "mensagem = f\"Olá, {formatar_nome(nome)}. Bem-vindo(a)!\"\n",
    "print(mensagem)\n"
   ]
  },
  {
   "cell_type": "code",
   "execution_count": null,
   "id": "6c2921ed",
   "metadata": {},
   "outputs": [],
   "source": []
  }
 ],
 "metadata": {
  "kernelspec": {
   "display_name": "Python 3 (ipykernel)",
   "language": "python",
   "name": "python3"
  },
  "language_info": {
   "codemirror_mode": {
    "name": "ipython",
    "version": 3
   },
   "file_extension": ".py",
   "mimetype": "text/x-python",
   "name": "python",
   "nbconvert_exporter": "python",
   "pygments_lexer": "ipython3",
   "version": "3.9.13"
  }
 },
 "nbformat": 4,
 "nbformat_minor": 5
}
