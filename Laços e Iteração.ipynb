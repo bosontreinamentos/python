{
 "cells": [
  {
   "cell_type": "markdown",
   "metadata": {},
   "source": [
    "## Repetição com Laço for\n",
    "\n",
    "Para usar um laço for devemos especificar uma variável para receber os valores a serem iterados (aqui, \"idioma\"), e um conjunto de valores sobre os quais a iteração ocorrerá (aqui, a lista \"idiomas\").\n",
    "A palavra \"in\" indica que a variável irá iterar sobre os elementos do conjunto informado. Esse conjunto pode ser uma lista, uma tupla, um dicionário, etc."
   ]
  },
  {
   "cell_type": "code",
   "execution_count": 1,
   "metadata": {},
   "outputs": [
    {
     "name": "stdout",
     "output_type": "stream",
     "text": [
      "Francês Português Japonês Russo Islandês "
     ]
    }
   ],
   "source": [
    "idiomas = ['Francês', 'Português', 'Japonês', 'Russo', 'Islandês']\n",
    "for idioma in idiomas:\n",
    "    print(idioma, end=' ')"
   ]
  },
  {
   "cell_type": "code",
   "execution_count": 6,
   "metadata": {},
   "outputs": [
    {
     "name": "stdout",
     "output_type": "stream",
     "text": [
      "576\n"
     ]
    }
   ],
   "source": [
    "# Loop (iteração) em elementos de uma tupla\n",
    "valores = (3, 1, 4, 3, 4, 4)\n",
    "produto = 1\n",
    "for item in valores:\n",
    "    produto = produto * item\n",
    "print(produto)"
   ]
  },
  {
   "cell_type": "code",
   "execution_count": 7,
   "metadata": {},
   "outputs": [
    {
     "name": "stdout",
     "output_type": "stream",
     "text": [
      "B\n",
      "ó\n",
      "s\n",
      "o\n",
      "n\n",
      " \n",
      "T\n",
      "r\n",
      "e\n",
      "i\n",
      "n\n",
      "a\n",
      "m\n",
      "e\n",
      "n\n",
      "t\n",
      "o\n",
      "s\n"
     ]
    }
   ],
   "source": [
    "#Iterar por cada caractere de uma string\n",
    "\n",
    "s = 'Bóson Treinamentos'\n",
    "# Escrever na tela cada letra da frase, uma por linha\n",
    "for letra in s:\n",
    "    print(letra)  "
   ]
  },
  {
   "cell_type": "markdown",
   "metadata": {},
   "source": [
    "## Função range()\n",
    "\n",
    "Função que retorna uma sequência de números.\n",
    "\n",
    "Indicamos entre parênteses a quantidade de números a ser retornada, iniciando por padrão em 0.\n",
    "Assim, a função:\n",
    "range(10)\n",
    "retornará 10 números, começando em zero e terminando em 9 (10 - 1).\n",
    "\n",
    "Também pdemos indicar m intervalo de números específicos a serem retornados.\n",
    "Assim,\n",
    "range(5,15)\n",
    "Irá retornar os números entre 5 e 14 (15 - 1).\n",
    "\n",
    "Podemos usar a função range() em conjunto com um laço de repetição para determinar quantas vezes o laço será repetido."
   ]
  },
  {
   "cell_type": "code",
   "execution_count": 8,
   "metadata": {},
   "outputs": [
    {
     "name": "stdout",
     "output_type": "stream",
     "text": [
      "Número: 0\n",
      "Número: 1\n",
      "Número: 2\n",
      "Número: 3\n",
      "Número: 4\n",
      "Número: 5\n",
      "Número: 6\n",
      "Número: 7\n",
      "Número: 8\n",
      "Número: 9\n"
     ]
    }
   ],
   "source": [
    "# Repetir uma ação 10 vezes usando a função range():\n",
    "for i in range(10):\n",
    "    print(\"Número:\", i)"
   ]
  },
  {
   "cell_type": "code",
   "execution_count": 10,
   "metadata": {},
   "outputs": [
    {
     "name": "stdout",
     "output_type": "stream",
     "text": [
      "Número: 20\n",
      "Número: 21\n",
      "Número: 22\n",
      "Número: 23\n",
      "Número: 24\n",
      "Número: 25\n",
      "Número: 26\n",
      "Número: 27\n",
      "Número: 28\n",
      "Número: 29\n",
      "Número: 30\n"
     ]
    }
   ],
   "source": [
    "# Gerar os números de 20 a 30 usando a função range():\n",
    "for i in range(20,31):\n",
    "    print(\"Número:\", i)"
   ]
  },
  {
   "cell_type": "markdown",
   "metadata": {},
   "source": [
    "## Laço while\n",
    "\n",
    "O laço while itera (repete o código) até que uma condição seja satisfeita. Enquanto a condição avaliada retornar o valor lógico True, o corpo do laço será repetido.\n",
    "\n",
    "É importante garantir que no corpo do laço alguma instrução torne a condição falsa em algum momento, caso contrário o loop será realizado ininterruptamente (laço infinito)"
   ]
  },
  {
   "cell_type": "code",
   "execution_count": 11,
   "metadata": {},
   "outputs": [
    {
     "name": "stdout",
     "output_type": "stream",
     "text": [
      "Número: 1\n",
      "Número: 2\n",
      "Número: 3\n",
      "Número: 4\n",
      "Número: 5\n",
      "Número: 6\n",
      "Número: 7\n",
      "Número: 8\n",
      "Número: 9\n",
      "Número: 10\n"
     ]
    }
   ],
   "source": [
    "# Mostrar os números entre 1 e 10\n",
    "i = 1\n",
    "while i <= 10:\n",
    "   print(\"Número:\", i)\n",
    "   i += 1"
   ]
  },
  {
   "cell_type": "code",
   "execution_count": null,
   "metadata": {},
   "outputs": [],
   "source": []
  }
 ],
 "metadata": {
  "kernelspec": {
   "display_name": "Python 3",
   "language": "python",
   "name": "python3"
  },
  "language_info": {
   "codemirror_mode": {
    "name": "ipython",
    "version": 3
   },
   "file_extension": ".py",
   "mimetype": "text/x-python",
   "name": "python",
   "nbconvert_exporter": "python",
   "pygments_lexer": "ipython3",
   "version": "3.8.5"
  }
 },
 "nbformat": 4,
 "nbformat_minor": 4
}
