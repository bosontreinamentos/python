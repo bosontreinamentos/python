{
 "cells": [
  {
   "cell_type": "markdown",
   "metadata": {},
   "source": [
    "# Dicionários em Python"
   ]
  },
  {
   "cell_type": "markdown",
   "metadata": {},
   "source": [
    "## Criar um dicionário"
   ]
  },
  {
   "cell_type": "markdown",
   "metadata": {},
   "source": [
    "Uma coleção é uma estrutura de dados que permite empacotar uma série de dados e acessá-los usando um nome comum.\n",
    "\n",
    "Estruturas do tipo Dicionários são encontrados em outras linguagens, muitas vezes com ouros nomes, como:\n",
    "- Arrays Associativos - PHP / Perl\n",
    "- Map ou HashMap - Java\n",
    "\n",
    "Dicionários são como as listas, porém usam chaves em vez de números sequenciais para indexar os valores armazenados"
   ]
  },
  {
   "cell_type": "code",
   "execution_count": 1,
   "metadata": {},
   "outputs": [],
   "source": [
    "# Criar um dicionário vazio:\n",
    "dic = {}\n",
    "\n",
    "# Criar um dicionário com dados\n",
    "d = {'time':'Flamengo','pontos':67,'saldoGols':59,'artilheiros':['Zé Roberto','Jonas','Valmir']}"
   ]
  },
  {
   "cell_type": "code",
   "execution_count": 2,
   "metadata": {},
   "outputs": [
    {
     "name": "stdout",
     "output_type": "stream",
     "text": [
      "{'time': 'Flamengo', 'pontos': 67, 'saldoGols': 59, 'artilheiros': ['Zé Roberto', 'Jonas', 'Valmir']}\n",
      "<class 'dict'>\n"
     ]
    }
   ],
   "source": [
    "# Visualizar dicionário (Ctrl+d para rodar)\n",
    "print(d)\n",
    "\n",
    "# Tipo do objeto:\n",
    "print(type(d))"
   ]
  },
  {
   "cell_type": "code",
   "execution_count": 3,
   "metadata": {},
   "outputs": [
    {
     "name": "stdout",
     "output_type": "stream",
     "text": [
      "Flamengo\n",
      "['Zé Roberto', 'Jonas', 'Valmir']\n"
     ]
    }
   ],
   "source": [
    "# Visualizar valores associados a uma chave\n",
    "print(d['time'])\n",
    "print(d['artilheiros'])"
   ]
  },
  {
   "cell_type": "code",
   "execution_count": 6,
   "metadata": {},
   "outputs": [
    {
     "name": "stdout",
     "output_type": "stream",
     "text": [
      "Flamengo\n",
      "['Zé Roberto', 'Jonas', 'Valmir']\n",
      "None\n",
      "Valor Indisponível\n"
     ]
    }
   ],
   "source": [
    "# Visualizar valores usando método get()\n",
    "print(d.get('time'))\n",
    "print(d.get('artilheiros'))\n",
    "print(d.get('golsContra'))\n",
    "# A chave golsContra não existe no dicionário atual, e o método get() retorna o valor None nesse caso\n",
    "# Para exibir um valor padrão quando o valor não existir, passe o valor padrão após a chave desejada:\n",
    "print(d.get('golsContra','Valor Indisponível'))"
   ]
  },
  {
   "cell_type": "code",
   "execution_count": 7,
   "metadata": {},
   "outputs": [
    {
     "name": "stdout",
     "output_type": "stream",
     "text": [
      "11\n"
     ]
    }
   ],
   "source": [
    "# Adicionar uma nova chave ao dicionário\n",
    "d['golsContra'] = 11\n",
    "print(d.get('golsContra','Valor Indisponível'))"
   ]
  },
  {
   "cell_type": "code",
   "execution_count": 8,
   "metadata": {},
   "outputs": [
    {
     "name": "stdout",
     "output_type": "stream",
     "text": [
      "Palmeiras\n"
     ]
    }
   ],
   "source": [
    "# Alterar um valor associado a uma chave\n",
    "d['time'] = 'Palmeiras'\n",
    "print(d.get('time'))"
   ]
  },
  {
   "cell_type": "code",
   "execution_count": 10,
   "metadata": {},
   "outputs": [
    {
     "name": "stdout",
     "output_type": "stream",
     "text": [
      "{'time': 'Bahia', 'pontos': 48, 'saldoGols': 59, 'artilheiros': ['Zé Roberto', 'Jonas', 'Valmir'], 'golsContra': 11, 'golsPro': 70}\n"
     ]
    }
   ],
   "source": [
    "# Alterar vários valores de uma vez, e inserir uma nova chave ao mesmo tempo, com método update()\n",
    "d.update({'time':'Bahia','pontos':48,'golsPro':d.get('saldoGols')+d.get('golsContra')})\n",
    "print(d)\n"
   ]
  },
  {
   "cell_type": "code",
   "execution_count": 11,
   "metadata": {},
   "outputs": [
    {
     "name": "stdout",
     "output_type": "stream",
     "text": [
      "None\n"
     ]
    }
   ],
   "source": [
    "# Excluir uma chave com função del()\n",
    "del(d['golsPro'])\n",
    "print(d.get('golsPro'))"
   ]
  },
  {
   "cell_type": "code",
   "execution_count": 12,
   "metadata": {},
   "outputs": [
    {
     "name": "stdout",
     "output_type": "stream",
     "text": [
      "None\n",
      "48\n"
     ]
    }
   ],
   "source": [
    "# Excluir uma chave, retornando seu valor com método pop()\n",
    "pontos = d.pop('pontos')\n",
    "print(d.get('pontos'))\n",
    "print(pontos)"
   ]
  },
  {
   "cell_type": "code",
   "execution_count": 13,
   "metadata": {},
   "outputs": [
    {
     "name": "stdout",
     "output_type": "stream",
     "text": [
      "4\n"
     ]
    }
   ],
   "source": [
    "# Verificar quantas chaves um dicionário possui com função len()\n",
    "print(len(d))\n"
   ]
  },
  {
   "cell_type": "code",
   "execution_count": 14,
   "metadata": {},
   "outputs": [
    {
     "name": "stdout",
     "output_type": "stream",
     "text": [
      "dict_keys(['time', 'saldoGols', 'artilheiros', 'golsContra'])\n"
     ]
    }
   ],
   "source": [
    "# Ver as chaves presentes no dicionário com método keys()\n",
    "print(d.keys())\n"
   ]
  },
  {
   "cell_type": "code",
   "execution_count": 15,
   "metadata": {},
   "outputs": [
    {
     "name": "stdout",
     "output_type": "stream",
     "text": [
      "dict_values(['Bahia', 59, ['Zé Roberto', 'Jonas', 'Valmir'], 11])\n"
     ]
    }
   ],
   "source": [
    "# Ver apenas os valores presentes no dicionário com método values()\n",
    "print(d.values())"
   ]
  },
  {
   "cell_type": "code",
   "execution_count": 16,
   "metadata": {},
   "outputs": [
    {
     "name": "stdout",
     "output_type": "stream",
     "text": [
      "dict_items([('time', 'Bahia'), ('saldoGols', 59), ('artilheiros', ['Zé Roberto', 'Jonas', 'Valmir']), ('golsContra', 11)])\n"
     ]
    }
   ],
   "source": [
    "# Ver as chaves e seus respectivos valores com método items()\n",
    "print(d.items())"
   ]
  },
  {
   "cell_type": "code",
   "execution_count": 17,
   "metadata": {},
   "outputs": [
    {
     "name": "stdout",
     "output_type": "stream",
     "text": [
      "time\n",
      "saldoGols\n",
      "artilheiros\n",
      "golsContra\n"
     ]
    }
   ],
   "source": [
    "# Ver as chaves usando laço de repetição for\n",
    "for i in d:\n",
    "    print(i)"
   ]
  },
  {
   "cell_type": "code",
   "execution_count": 19,
   "metadata": {},
   "outputs": [
    {
     "name": "stdout",
     "output_type": "stream",
     "text": [
      "time = Bahia\n",
      "saldoGols = 59\n",
      "artilheiros = ['Zé Roberto', 'Jonas', 'Valmir']\n",
      "golsContra = 11\n"
     ]
    }
   ],
   "source": [
    "# Ver as chaves e valores com laço de repetição for\n",
    "for chave,valor in d.items():\n",
    "    print(chave, '=', valor)"
   ]
  },
  {
   "cell_type": "markdown",
   "metadata": {},
   "source": [
    "### Compreensão de Dicionários\n",
    "\n",
    "Assim como ocorre com as listas, podemos aplicar compreensão em dicionários também, de modo a poder aplicar tarefas de processamento em todos os seus elementos constituintes."
   ]
  },
  {
   "cell_type": "code",
   "execution_count": 27,
   "metadata": {},
   "outputs": [
    {
     "name": "stdout",
     "output_type": "stream",
     "text": [
      "Área total dos imóvels é de 485 m²\n"
     ]
    }
   ],
   "source": [
    "imoveis = {'Casa': 125, 'Sobrado': 90,'Apartamento':70,'Terreno':200}\n",
    "soma = 0\n",
    "for imovel in imoveis: # para cada chave no dicionário imoveis\n",
    "    soma += imoveis[imovel]  # acumula valores associados a cada chave\n",
    "\n",
    "print(\"Área total dos imóvels é de {} m\\u00B2\".format(soma)) # \\u00B2 é Unicode para ²"
   ]
  },
  {
   "cell_type": "code",
   "execution_count": 35,
   "metadata": {},
   "outputs": [
    {
     "name": "stdout",
     "output_type": "stream",
     "text": [
      "['Casa', 'Sobrado', 'Apartamento', 'Terreno']\n",
      "[125, 90, 70, 200]\n",
      "485\n",
      "{'C': 125, 'S': 90, 'A': 70, 'T': 200}\n"
     ]
    }
   ],
   "source": [
    "# Mesmo exemplo anterior, mas usando compreensões\n",
    "imoveis = {'Casa': 125, 'Sobrado': 90,'Apartamento':70,'Terreno':200}\n",
    "soma = 0\n",
    "print([chave for chave in imoveis])  # Retornar somente as chaves; Retorna lista de itens\n",
    "print([imoveis[chave] for chave in imoveis]) # Retornar somente os valores; Retorna lista de itens\n",
    "print(sum([imoveis[chave] for chave in imoveis]))  # Retorna lista de itens\n",
    "print({d[0]:imoveis[d] for d in imoveis}) # Retorna dicionário com iniciais dos imóveis e seus valores"
   ]
  },
  {
   "cell_type": "code",
   "execution_count": null,
   "metadata": {},
   "outputs": [],
   "source": []
  }
 ],
 "metadata": {
  "kernelspec": {
   "display_name": "Python 3",
   "language": "python",
   "name": "python3"
  },
  "language_info": {
   "codemirror_mode": {
    "name": "ipython",
    "version": 3
   },
   "file_extension": ".py",
   "mimetype": "text/x-python",
   "name": "python",
   "nbconvert_exporter": "python",
   "pygments_lexer": "ipython3",
   "version": "3.8.5"
  }
 },
 "nbformat": 4,
 "nbformat_minor": 4
}
