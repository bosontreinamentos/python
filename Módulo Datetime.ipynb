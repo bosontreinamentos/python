{
 "cells": [
  {
   "cell_type": "markdown",
   "id": "a108d47a",
   "metadata": {},
   "source": [
    "O Python inclui três módulos separados em sua biblioteca padrão para trabalhar com data e hora: calendar, time e datetime\n",
    "\n",
    "Módulo datetime - Tipos básicos de data e hora\n",
    "\n",
    "Este módulo fornece classes para manipulação de datas e horários.\n",
    "Seu foco principal é a extração de dados para manipulação e exibição formatada."
   ]
  },
  {
   "cell_type": "markdown",
   "id": "aae89abb",
   "metadata": {},
   "source": [
    "Classes principais\n",
    "\n",
    "Existem 5 classes no módulo datetime:\n",
    "\n",
    "date: Data, usando o calendário Gregoriano. Tem como atributos year, month e day.\n",
    "\n",
    "time: Hora idealizada, que assume um dia como sendo exatamente 24 x 60 x 60 segundos (86.400 segundos). Atributos: hour, minute, second, microsecond e tzinfo.\n",
    "\n",
    "datetime: Combinação de time e date. Atributos: year, month, day, hour, minute, second, microsecond e tzinfo.\n",
    "\n",
    "timedelta: Duração que expressa a diferença entre duas instâncias de date, time ou datetime, com resolução de microssegundos.\n",
    "\n",
    "tzinfo: Classe abstrata para objetos com informação de fuso horário.\n",
    "\n",
    "timezone: Esta classe implementa a classe abstrata tzinfo na forma de um deslocamento fixo a partir do tempo UTC."
   ]
  },
  {
   "cell_type": "code",
   "execution_count": 1,
   "id": "54e16d1b",
   "metadata": {},
   "outputs": [],
   "source": [
    "# Importar o módulo datetime e suas classes\n",
    "\n",
    "from datetime import date, time, datetime, timedelta"
   ]
  },
  {
   "cell_type": "code",
   "execution_count": 3,
   "id": "b34b205c",
   "metadata": {},
   "outputs": [
    {
     "name": "stdout",
     "output_type": "stream",
     "text": [
      "2022-07-14 09:25:23.747183\n"
     ]
    }
   ],
   "source": [
    "# 1. Mostrar data e hora atuais\n",
    "\n",
    "data_hora = datetime.now()\n",
    "print(data_hora)"
   ]
  },
  {
   "cell_type": "markdown",
   "id": "db99dec9",
   "metadata": {},
   "source": [
    "Método strftime() \n",
    "\n",
    "Método para formatação de objetos de data em string legíveis.\n",
    "Recebe como parâmetro uma diretiva que será usada para formatar a string.\n",
    "\n",
    "Diretivas aqui: https://docs.python.org/3/library/datetime.html#strftime-and-strptime-behavior"
   ]
  },
  {
   "cell_type": "code",
   "execution_count": 4,
   "id": "032c23ce",
   "metadata": {},
   "outputs": [
    {
     "name": "stdout",
     "output_type": "stream",
     "text": [
      "October\n"
     ]
    }
   ],
   "source": [
    "# 2. Mostrar o nome do mês de uma data:\n",
    "\n",
    "data_hora = datetime(2019, 10, 31)\n",
    "print(data_hora.strftime(\"%B\"))"
   ]
  },
  {
   "cell_type": "code",
   "execution_count": 5,
   "id": "c7265fad",
   "metadata": {
    "scrolled": true
   },
   "outputs": [
    {
     "name": "stdout",
     "output_type": "stream",
     "text": [
      "Dia de hoje: 14/07/2022\n",
      "Data e hora atuais: 14/07/2022 09:26\n"
     ]
    }
   ],
   "source": [
    "# Mostrar data e hora atuais com métodos today() e now()\n",
    "\n",
    "hoje = date.today().strftime('%d/%m/%Y')\n",
    "agora = datetime.now().strftime('%d/%m/%Y %H:%M')\n",
    "print(\"Dia de hoje:\", hoje)\n",
    "print(\"Data e hora atuais:\", agora)"
   ]
  },
  {
   "cell_type": "code",
   "execution_count": 6,
   "id": "93c96e3b",
   "metadata": {},
   "outputs": [
    {
     "name": "stdout",
     "output_type": "stream",
     "text": [
      "14/07/2022 09:27\n"
     ]
    }
   ],
   "source": [
    "# Mostrar data e hora formatadas\n",
    "\n",
    "data_hora = datetime.now().strftime('%d/%m/%Y %H:%M')\n",
    "print(data_hora)"
   ]
  },
  {
   "cell_type": "code",
   "execution_count": 7,
   "id": "30237333",
   "metadata": {},
   "outputs": [
    {
     "name": "stdout",
     "output_type": "stream",
     "text": [
      "2022\n",
      "Thursday\n"
     ]
    }
   ],
   "source": [
    "# 3. Mostrar o ano atual e o nome do dia da semana\n",
    "\n",
    "data_hora = datetime.now()\n",
    "print(data_hora.year)\n",
    "print(data_hora.strftime(\"%A\"))"
   ]
  },
  {
   "cell_type": "code",
   "execution_count": 8,
   "id": "b34acdef",
   "metadata": {},
   "outputs": [
    {
     "name": "stdout",
     "output_type": "stream",
     "text": [
      "2022-07-10 00:00:00\n"
     ]
    }
   ],
   "source": [
    "# Criar um objeto de data\n",
    "\n",
    "data_hora = datetime(2022, 7, 10)\n",
    "print(data_hora)"
   ]
  },
  {
   "cell_type": "code",
   "execution_count": 9,
   "id": "0ca784a1",
   "metadata": {},
   "outputs": [
    {
     "name": "stdout",
     "output_type": "stream",
     "text": [
      "12:15:20\n"
     ]
    }
   ],
   "source": [
    "# Criar um objeto de hora\n",
    "\n",
    "hora = time(hour=12, minute=15, second=20)\n",
    "print(hora)"
   ]
  },
  {
   "cell_type": "code",
   "execution_count": 10,
   "id": "4a7e0047",
   "metadata": {},
   "outputs": [
    {
     "name": "stdout",
     "output_type": "stream",
     "text": [
      "2021-05-11 00:00:00\n"
     ]
    }
   ],
   "source": [
    "# Transformar string em data: método strptime\n",
    "\n",
    "data_texto = '11/05/2021'\n",
    "data_hora = datetime.strptime(data_texto, '%d/%m/%Y')\n",
    "print(data_hora)\n"
   ]
  },
  {
   "cell_type": "code",
   "execution_count": 11,
   "id": "d8019de2",
   "metadata": {},
   "outputs": [
    {
     "data": {
      "text/plain": [
       "'12:29'"
      ]
     },
     "execution_count": 11,
     "metadata": {},
     "output_type": "execute_result"
    }
   ],
   "source": [
    "# Mostrar hora UTC\n",
    "\n",
    "datetime.utcnow().strftime('%H:%M')"
   ]
  },
  {
   "cell_type": "code",
   "execution_count": 4,
   "id": "55b3ffed",
   "metadata": {},
   "outputs": [
    {
     "name": "stdout",
     "output_type": "stream",
     "text": [
      "12:15:20\n"
     ]
    }
   ],
   "source": [
    "# Criar um objeto de hora:\n",
    "hora = time(hour=12, minute=15, second=20)\n",
    "print(hora)"
   ]
  },
  {
   "cell_type": "code",
   "execution_count": 14,
   "id": "ee3d3f60",
   "metadata": {},
   "outputs": [
    {
     "name": "stdout",
     "output_type": "stream",
     "text": [
      "Faltam 160 dias para meu aniversário!\n"
     ]
    }
   ],
   "source": [
    "# Quantos dias faltam para meu aniversário?\n",
    "\n",
    "MEU_ANIVERSARIO = datetime(year=2022, month=12, day=21, hour=14)\n",
    "contagem = MEU_ANIVERSARIO - datetime.now()\n",
    "print(f\"Faltam {contagem.days} dias para meu aniversário!\")"
   ]
  },
  {
   "cell_type": "code",
   "execution_count": 15,
   "id": "4d0289c3",
   "metadata": {},
   "outputs": [
    {
     "name": "stdout",
     "output_type": "stream",
     "text": [
      "13/07/2022\n"
     ]
    }
   ],
   "source": [
    "# Criar objeto data a partir de uma string com método fromisoformat()\n",
    "\n",
    "data = date.fromisoformat(\"2022-07-13\")\n",
    "print(data.strftime('%d/%m/%Y'))"
   ]
  },
  {
   "cell_type": "markdown",
   "id": "0b2bc5b5",
   "metadata": {},
   "source": [
    "Com timedelta é possível adicionar ou subtrair dias, horas, minutos e segundos."
   ]
  },
  {
   "cell_type": "code",
   "execution_count": 16,
   "id": "fc7f1802",
   "metadata": {},
   "outputs": [
    {
     "name": "stdout",
     "output_type": "stream",
     "text": [
      "24/07/2022\n"
     ]
    }
   ],
   "source": [
    "# Adicionar dias a uma data: que dia será daqui a 10 dias?\n",
    "\n",
    "data_futura = datetime.today() + timedelta(days=10)\n",
    "print(data_futura.strftime('%d/%m/%Y'))"
   ]
  },
  {
   "cell_type": "code",
   "execution_count": null,
   "id": "aa399732",
   "metadata": {},
   "outputs": [],
   "source": [
    "Módulo dateutil: fornece extensões úteis para o datetime.\n",
    "Por exemplo, com relativedelta podemos adicionar ou subtrair outros períodos como meses ou anos."
   ]
  },
  {
   "cell_type": "code",
   "execution_count": 17,
   "id": "171970ca",
   "metadata": {},
   "outputs": [
    {
     "name": "stdout",
     "output_type": "stream",
     "text": [
      "24/09/2025\n"
     ]
    }
   ],
   "source": [
    "# Que dia será daqui a 3 anos, 2 meses e 10 dias?\n",
    "\n",
    "from dateutil.relativedelta import relativedelta\n",
    "\n",
    "data_atual = datetime.today()\n",
    "delta = relativedelta(years=+3, months=+2, days=+10)\n",
    "data_futura = data_atual + delta\n",
    "print(data_futura.strftime('%d/%m/%Y'))"
   ]
  },
  {
   "cell_type": "code",
   "execution_count": 18,
   "id": "a59e3e4c",
   "metadata": {},
   "outputs": [
    {
     "name": "stdout",
     "output_type": "stream",
     "text": [
      "15/01/2022\n"
     ]
    }
   ],
   "source": [
    "# Que dia era há 180 dias?\n",
    "\n",
    "data_passada = datetime.today() + timedelta(days=-180)\n",
    "print(data_passada.strftime('%d/%m/%Y'))"
   ]
  },
  {
   "cell_type": "code",
   "execution_count": 7,
   "id": "009280a2",
   "metadata": {},
   "outputs": [
    {
     "name": "stdout",
     "output_type": "stream",
     "text": [
      "23/09/2025\n"
     ]
    }
   ],
   "source": [
    "# Que dia será daqui a 3 anos, 2 meses e 10 dias?\n",
    "data_atual = datetime.today()\n",
    "delta = relativedelta(years=+3, months=+2, days=+10)\n",
    "data_futura = data_atual + delta\n",
    "print(data_futura.strftime('%d/%m/%Y'))"
   ]
  },
  {
   "cell_type": "code",
   "execution_count": 8,
   "id": "37617b04",
   "metadata": {
    "scrolled": true
   },
   "outputs": [
    {
     "name": "stdout",
     "output_type": "stream",
     "text": [
      "14/01/2022\n"
     ]
    }
   ],
   "source": [
    "# Que dia era há 180 dias?\n",
    "data_passada = datetime.today() + timedelta(days=-180)\n",
    "print(data_passada.strftime('%d/%m/%Y'))"
   ]
  },
  {
   "cell_type": "markdown",
   "id": "61e1f3b5",
   "metadata": {},
   "source": [
    "Documentação oficial: https://docs.python.org/3/library/datetime.html"
   ]
  }
 ],
 "metadata": {
  "kernelspec": {
   "display_name": "Python 3 (ipykernel)",
   "language": "python",
   "name": "python3"
  },
  "language_info": {
   "codemirror_mode": {
    "name": "ipython",
    "version": 3
   },
   "file_extension": ".py",
   "mimetype": "text/x-python",
   "name": "python",
   "nbconvert_exporter": "python",
   "pygments_lexer": "ipython3",
   "version": "3.9.12"
  }
 },
 "nbformat": 4,
 "nbformat_minor": 5
}
