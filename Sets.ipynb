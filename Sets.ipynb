{
 "cells": [
  {
   "cell_type": "markdown",
   "metadata": {},
   "source": [
    "## Sets (Conjuntos)\n",
    "\n",
    "O tipo **Set** é um tipo de dado nativo do Python que representa um conteiner não-ordenado de itens não-repetidos.\n",
    "\n",
    "Em um conjunto, os itens são únicos e exclusivos, não havendo itens repetidos.\n",
    "\n",
    "Um conjunto pode ser criado usando-se a sintaxe a seguir:\n",
    "\n",
    "nome_conjunto ={item1, item2, ...}\n",
    "\n",
    "Note que usamos chaves para criar um conjunto, e distiguimos os conjuntos de dicionários pois os dicionários possuem pares chave:valor, ao passo que os conjuntos são uma sequência simples de itens."
   ]
  },
  {
   "cell_type": "code",
   "execution_count": 6,
   "metadata": {},
   "outputs": [
    {
     "name": "stdout",
     "output_type": "stream",
     "text": [
      "{1, 3, 5, 7, 9, 11}\n"
     ]
    }
   ],
   "source": [
    "# Criar um conjunto diretamente\n",
    "\n",
    "conj = {1, 3, 5, 7, 9, 11, 9, 7} # Valores duplicados são removidos ao criar um conjunto\n",
    "print(conj)"
   ]
  },
  {
   "cell_type": "code",
   "execution_count": 2,
   "metadata": {},
   "outputs": [
    {
     "name": "stdout",
     "output_type": "stream",
     "text": [
      "{1, 3, 5, 7, 9, 11}\n"
     ]
    }
   ],
   "source": [
    "# Criar um conjunto a partir de uma lista ou de uma tupla com o construtor set()\n",
    "\n",
    "tupla = (1, 3, 5, 7, 9, 11)\n",
    "conj = set(tupla)\n",
    "print(conj)"
   ]
  },
  {
   "cell_type": "code",
   "execution_count": 5,
   "metadata": {},
   "outputs": [
    {
     "name": "stdout",
     "output_type": "stream",
     "text": [
      "{'PHP', 'C++', 'Assembly', 'Haskell', 'Python'}\n",
      "{'n', 'm', 'a', 't', 's', 'B', 'e', 'ó', 'i', 'T', 'o', 'r', ' '}\n"
     ]
    }
   ],
   "source": [
    "# Criar conjunto a partir de strings\n",
    "\n",
    "conj1 = {'PHP','Python','Assembly','C++','Haskell'}\n",
    "print(conj1)\n",
    "\n",
    "conj2 = set('Bóson Treinamentos') # Conjunto criado com os caracteres da string, sem repetição.\n",
    "print(conj2)"
   ]
  },
  {
   "cell_type": "code",
   "execution_count": 18,
   "metadata": {},
   "outputs": [
    {
     "name": "stdout",
     "output_type": "stream",
     "text": [
      "{1, 3, 5, 7, 9, 11}\n",
      "{1, 3, 4, 5, 7, 9, 11}\n"
     ]
    }
   ],
   "source": [
    "# Adicionar elemento a um conjunto: método add()\n",
    "\n",
    "conj = {1, 3, 5, 7, 9, 11}\n",
    "print(conj)\n",
    "conj.add(4)\n",
    "print(conj)"
   ]
  },
  {
   "cell_type": "code",
   "execution_count": 24,
   "metadata": {},
   "outputs": [
    {
     "data": {
      "text/plain": [
       "1"
      ]
     },
     "execution_count": 24,
     "metadata": {},
     "output_type": "execute_result"
    }
   ],
   "source": [
    "# Retornar e remover um elemento aleatório do conjunto: método pop()\n",
    "\n",
    "conj = {1, 3, 5, 7, 9, 11}\n",
    "conj.pop()\n",
    "#print(conj)"
   ]
  },
  {
   "cell_type": "code",
   "execution_count": 25,
   "metadata": {},
   "outputs": [
    {
     "data": {
      "text/plain": [
       "True"
      ]
     },
     "execution_count": 25,
     "metadata": {},
     "output_type": "execute_result"
    }
   ],
   "source": [
    "# Verificar se um item pertence a um conjunto com operador in\n",
    "\n",
    "conj = {1, 3, 5, 7, 9, 11}\n",
    "7 in conj"
   ]
  },
  {
   "cell_type": "code",
   "execution_count": 29,
   "metadata": {},
   "outputs": [
    {
     "name": "stdout",
     "output_type": "stream",
     "text": [
      "{0, 1, 12, 9}\n",
      "{0, 1, 2, 3, 4, 5, 7, 9, 12}\n",
      "{5, 7}\n",
      "{0, 1, 2, 3, 4, 9, 12}\n"
     ]
    }
   ],
   "source": [
    "# Operações em conjuntos - retornam novos conjuntos\n",
    "\n",
    "conj1 = {1, 5, 9, 0, 12, 7}\n",
    "conj2 = {2, 4, 5, 3, 7}\n",
    "\n",
    "# verificar itens que estão no primeiro conjunto, mas não no segundo (subtração de conjunto)\n",
    "print(conj1 - conj2)\n",
    "\n",
    "# verificar itens que estejam em um dos conjuntos ou em ambos (união de conjuntos)\n",
    "print(conj1 | conj2)\n",
    "\n",
    "# verificar itens que estejam em ambos os conjuntos (intersecção de conjuntos)\n",
    "print(conj1 & conj2)\n",
    "\n",
    "# itens presentes no conjunto A ou no conjunto B, mas não em ambos\n",
    "print(conj1 ^ conj2)"
   ]
  },
  {
   "cell_type": "code",
   "execution_count": null,
   "metadata": {},
   "outputs": [],
   "source": []
  }
 ],
 "metadata": {
  "kernelspec": {
   "display_name": "Python 3",
   "language": "python",
   "name": "python3"
  },
  "language_info": {
   "codemirror_mode": {
    "name": "ipython",
    "version": 3
   },
   "file_extension": ".py",
   "mimetype": "text/x-python",
   "name": "python",
   "nbconvert_exporter": "python",
   "pygments_lexer": "ipython3",
   "version": "3.8.5"
  }
 },
 "nbformat": 4,
 "nbformat_minor": 4
}
