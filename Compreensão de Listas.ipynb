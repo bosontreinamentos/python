{
 "cells": [
  {
   "cell_type": "markdown",
   "metadata": {},
   "source": [
    "Compreensões de Lista (List Comprehensions)\n",
    "\n"
   ]
  },
  {
   "cell_type": "code",
   "execution_count": 6,
   "metadata": {},
   "outputs": [
    {
     "name": "stdout",
     "output_type": "stream",
     "text": [
      "[1, 4, 9, 16, 25, 36, 49, 64, 81, 100]\n"
     ]
    }
   ],
   "source": [
    "quadrados = [num**2 for num in range(1,11)]\n",
    "print(quadrados)"
   ]
  },
  {
   "cell_type": "code",
   "execution_count": 10,
   "metadata": {},
   "outputs": [
    {
     "name": "stdout",
     "output_type": "stream",
     "text": [
      "[4, 16, 36, 64, 100]\n"
     ]
    }
   ],
   "source": [
    "quadrados = [num**2 for num in range(1,11) if num % 2 == 0]\n",
    "print(quadrados)"
   ]
  },
  {
   "cell_type": "code",
   "execution_count": 15,
   "metadata": {},
   "outputs": [
    {
     "data": {
      "text/plain": [
       "3"
      ]
     },
     "execution_count": 15,
     "metadata": {},
     "output_type": "execute_result"
    }
   ],
   "source": [
    "def contar_negativos(numeros):\n",
    "    return len([num for num in numeros if num < 0])\n",
    "n = (2,3,-7,3,-6,-1,9)\n",
    "contar_negativos(n)"
   ]
  },
  {
   "cell_type": "code",
   "execution_count": 3,
   "metadata": {},
   "outputs": [
    {
     "name": "stdout",
     "output_type": "stream",
     "text": [
      "[6, 7, 9, 9]\n",
      "[(6, -1), (6, -5), (6, -2), (7, -1), (7, -5), (7, -2), (9, -1), (9, -5), (9, -2), (9, -1), (9, -5), (9, -2)]\n"
     ]
    }
   ],
   "source": [
    "x = [2,4,6,7,9,1,2,0,-1,-5,2,9,0,-2]\n",
    "print([b for b in x if b > 5])\n",
    "print([(a,b) for a in x for b in x if a > 5 and b < 0])"
   ]
  },
  {
   "cell_type": "code",
   "execution_count": 4,
   "metadata": {
    "scrolled": true
   },
   "outputs": [
    {
     "data": {
      "text/plain": [
       "[[1, 1, 1, 1, 1, 1],\n",
       " [1, 1, 1, 1, 1, 1],\n",
       " [1, 1, 1, 1, 1, 1],\n",
       " [1, 1, 1, 1, 1, 1],\n",
       " [1, 1, 1, 1, 1, 1]]"
      ]
     },
     "execution_count": 4,
     "metadata": {},
     "output_type": "execute_result"
    }
   ],
   "source": [
    "# Compreensões encadeadas\n",
    "matriz = [[1 for i in range(6)] for j in range(5)]  # Gera matriz com 5 linhas e 6 colunas, preenchida com '1'\n",
    "matriz"
   ]
  },
  {
   "cell_type": "code",
   "execution_count": null,
   "metadata": {},
   "outputs": [],
   "source": []
  }
 ],
 "metadata": {
  "kernelspec": {
   "display_name": "Python 3",
   "language": "python",
   "name": "python3"
  },
  "language_info": {
   "codemirror_mode": {
    "name": "ipython",
    "version": 3
   },
   "file_extension": ".py",
   "mimetype": "text/x-python",
   "name": "python",
   "nbconvert_exporter": "python",
   "pygments_lexer": "ipython3",
   "version": "3.8.5"
  }
 },
 "nbformat": 4,
 "nbformat_minor": 4
}
