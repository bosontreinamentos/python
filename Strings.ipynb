{
 "cells": [
  {
   "cell_type": "markdown",
   "metadata": {},
   "source": [
    "## Manipulação de Strings em Python\n",
    "\n"
   ]
  },
  {
   "cell_type": "code",
   "execution_count": 2,
   "metadata": {},
   "outputs": [
    {
     "name": "stdout",
     "output_type": "stream",
     "text": [
      "Bóson Treinamentos!\n",
      "Fábio dos Reis\n",
      "Fábio trabalha na \"Bóson\"\n",
      "Não gosto de McDonald's\n"
     ]
    }
   ],
   "source": [
    "# Criar strings\n",
    "\n",
    "a = \"Bóson Treinamentos!\"\n",
    "b = 'Fábio dos Reis'\n",
    "c = 'Fábio trabalha na \"Bóson\"' # incluindo aspas como parte da string\n",
    "d = 'Não gosto de McDonald\\'s' # Escapando caracter de aspa simples\n",
    "print(a)\n",
    "print(b)\n",
    "print(c)\n",
    "print(d)"
   ]
  },
  {
   "cell_type": "markdown",
   "metadata": {},
   "source": [
    "Strings são sequências de caracteres. Quase tudo que é possível fazer com uma lista, podemos fazer com uma string.\n",
    "Porém, não é possível modificar ma string - as strings são sequências imutáveis, assim como as tuplas."
   ]
  },
  {
   "cell_type": "code",
   "execution_count": 7,
   "metadata": {},
   "outputs": [
    {
     "name": "stdout",
     "output_type": "stream",
     "text": [
      "B\n",
      "logia\n",
      "B\n",
      "ó\n",
      "s\n",
      "o\n",
      "n\n",
      " \n",
      "T\n",
      "r\n",
      "e\n",
      "i\n",
      "n\n",
      "a\n",
      "m\n",
      "e\n",
      "n\n",
      "t\n",
      "o\n",
      "s\n",
      " \n",
      "e\n",
      "m\n",
      " \n",
      "T\n",
      "e\n",
      "c\n",
      "n\n",
      "o\n",
      "l\n",
      "o\n",
      "g\n",
      "i\n",
      "a\n"
     ]
    }
   ],
   "source": [
    "# Strings como listas de caracteres\n",
    "a = \"Bóson Treinamentos em Tecnologia\"\n",
    "print(a[0]) # imprimir primeira letra da string\n",
    "print(a[-5:]) # imprimir as últimas 5 letras da string\n",
    "len(a) # Comprimento da string (número de caracteres)\n",
    "for letra in a: print(letra) # Imprimir cada letra da string com laço for"
   ]
  },
  {
   "cell_type": "markdown",
   "metadata": {},
   "source": [
    "## Métodos em Strings\n",
    "\n",
    "Existem diversos métodos que podemos aplicar a strings em Python. Os exemplos a seguir mostram alguns dos métodos para manipulação de strings mais importantes."
   ]
  },
  {
   "cell_type": "code",
   "execution_count": 15,
   "metadata": {},
   "outputs": [
    {
     "name": "stdout",
     "output_type": "stream",
     "text": [
      "APRENDER PYTHON!\n",
      "aprender python!\n",
      "9\n"
     ]
    }
   ],
   "source": [
    "b = 'Aprender Python!'\n",
    "print(b.upper())  # Todos os caracteres em maiúsculas\n",
    "print(b.lower())  # Todos os caracteres em minúsculas\n",
    "print(b.index('Py')) # Procurar primeira ocorrência da substring Py"
   ]
  },
  {
   "cell_type": "markdown",
   "metadata": {},
   "source": [
    "## Método split()\n",
    "\n",
    "O método .split() permite criar uma lista a partir de uma string, usando os espaços em branco entre as palavras para separar os elementos. Um dos usos desse método é separar as palavras individuais de um texto para análise.\n",
    "\n",
    "Também é possível informar um caractere diferente do espaço em branco como separador dos elementos."
   ]
  },
  {
   "cell_type": "code",
   "execution_count": 16,
   "metadata": {},
   "outputs": [
    {
     "name": "stdout",
     "output_type": "stream",
     "text": [
      "['Aprender', 'Python,', 'Análise', 'de', 'Dados', 'e', 'Inteligência', 'Artificial!']\n",
      "['6f', '23', 'a2', '33', '01', '22']\n",
      "Hora: 12\n",
      "Minuto: 23\n",
      "Segundo 45\n"
     ]
    }
   ],
   "source": [
    "b = 'Aprender Python, Análise de Dados e Inteligência Artificial!'\n",
    "palavras = b.split()\n",
    "print(palavras)\n",
    "\n",
    "c = '6f:23:a2:33:01:22'  # Endereço MAC de rede\n",
    "mac = c.split(':') # Informamos que o separador de elementos é o caractere dois-pontos\n",
    "print(mac)\n",
    "\n",
    "d = '12:23:45' # hora\n",
    "h,m,s = d.split(':')\n",
    "print(\"Hora:\", h)\n",
    "print(\"Minuto:\",m)\n",
    "print(\"Segundo\",s)\n"
   ]
  },
  {
   "cell_type": "code",
   "execution_count": 41,
   "metadata": {},
   "outputs": [
    {
     "name": "stdout",
     "output_type": "stream",
     "text": [
      "Digite a palavra procurada:lista\n",
      "Texto encontrado 1 vezes\n"
     ]
    }
   ],
   "source": [
    "texto = 'O método split() permite criar uma lista a partir de uma string, usando os espaços em branco entre as palavras para separar os elementos. Um dos usos desse método é separar as palavras individuais de um texto para análise.'\n",
    "termo = input(\"Digite a palavra procurada:\")\n",
    "\n",
    "def busca_palavra(termo,texto):\n",
    "    soma = 0\n",
    "    palavras_texto = texto.split() # Cria lista com as palavras do texto\n",
    "    for palavra in palavras_texto:\n",
    "        if palavra == termo:\n",
    "            soma += 1\n",
    "    print(\"Texto encontrado {} vezes\".format(soma)) \n",
    "    \n",
    "busca_palavra(termo,texto)"
   ]
  },
  {
   "cell_type": "markdown",
   "metadata": {},
   "source": [
    "## Método format()\n",
    "\n",
    "Podemos formatar strings utilizando o método .format()."
   ]
  },
  {
   "cell_type": "code",
   "execution_count": 29,
   "metadata": {
    "scrolled": true
   },
   "outputs": [
    {
     "name": "stdout",
     "output_type": "stream",
     "text": [
      "A Luminária custa R$ 53.50 na loja especializada\n",
      "Duas Luminárias custam, portanto, R$ 107.0.\n"
     ]
    }
   ],
   "source": [
    "preco = 53.50\n",
    "item = 'Luminária'\n",
    "print(\"A {} custa R$ {:.2f} na loja especializada\".format(item,preco))\n",
    "print(\"Duas {0}s custam, portanto, R$ {1}.\".format(item,preco*2)) # Numerando os argumentos de posição"
   ]
  },
  {
   "cell_type": "markdown",
   "metadata": {},
   "source": [
    "Mais sobre o método format() nestes links:\n",
    "https://pyformat.info/\n",
    "https://docs.python.org/3/library/string.html#formatstrings"
   ]
  },
  {
   "cell_type": "code",
   "execution_count": 30,
   "metadata": {},
   "outputs": [
    {
     "data": {
      "text/plain": [
       "int"
      ]
     },
     "execution_count": 30,
     "metadata": {},
     "output_type": "execute_result"
    }
   ],
   "source": [
    "type(12345)"
   ]
  },
  {
   "cell_type": "markdown",
   "metadata": {},
   "source": [
    "### Método isdigit()\n",
    "\n",
    "Permite verificar se o conteúdo de uma string é composto de dígitos numéricos."
   ]
  },
  {
   "cell_type": "code",
   "execution_count": 32,
   "metadata": {},
   "outputs": [
    {
     "name": "stdout",
     "output_type": "stream",
     "text": [
      "True\n",
      "False\n"
     ]
    }
   ],
   "source": [
    "a = '84758'\n",
    "b = '8475H'\n",
    "print(a.isdigit())\n",
    "print(b.isdigit())"
   ]
  }
 ],
 "metadata": {
  "kernelspec": {
   "display_name": "Python 3",
   "language": "python",
   "name": "python3"
  },
  "language_info": {
   "codemirror_mode": {
    "name": "ipython",
    "version": 3
   },
   "file_extension": ".py",
   "mimetype": "text/x-python",
   "name": "python",
   "nbconvert_exporter": "python",
   "pygments_lexer": "ipython3",
   "version": "3.8.5"
  }
 },
 "nbformat": 4,
 "nbformat_minor": 4
}
