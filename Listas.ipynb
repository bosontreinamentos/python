{
 "cells": [
  {
   "cell_type": "markdown",
   "metadata": {},
   "source": [
    "## Coleções\n",
    "\n",
    "Coleções, em Python, são estruturas de dados pré-empacotadas que consistem em itens de dados relacionados (mas não necessariamente do mesmo tipo)."
   ]
  },
  {
   "cell_type": "markdown",
   "metadata": {},
   "source": [
    "### Listas em Python\n",
    "\n",
    "Em Python, uma lista representa uma sequência ordenada de valores. É um tipo de coleção\n",
    "Uma lista pode conter quaisquer tipos de dados, incusive dados de tipos diferentes na mesma lista.\n",
    "\n",
    "As listas podem ser redimensionadas dinamicamente conforme necessário, crescendo ou diminuindo de tamanho em tempo de execução.\n",
    "\n",
    "As listas também podem ter uma ou mais dimensões, representando, por exemplo, vetores (uma dimensão) ou matrizes (duas dimensões)."
   ]
  },
  {
   "cell_type": "code",
   "execution_count": 6,
   "metadata": {},
   "outputs": [
    {
     "name": "stdout",
     "output_type": "stream",
     "text": [
      "[['4', '9', '7'], ['2', '7', '2'], ['6', '3', '5']]\n"
     ]
    }
   ],
   "source": [
    "# Criar lista\n",
    "\n",
    "nomeLista = ['valor1', 'valor2', 'valor3']\n",
    "\n",
    "# Os elementos em uma lista são separados por vírgulas. Um elemento em uma lista pode ser qualquer valor, inclusive uma outra lista.\n",
    "\n",
    "# Também é possível criar listas de listas:\n",
    "\n",
    "valores = [\n",
    "    ['4', '9', '7'],\n",
    "    ['2', '7', '2'],\n",
    "    ['6', '3', '5'], # (a vírgula após o último elemento é opcional)\n",
    "]\n",
    "\n",
    "# Também podemos criar a lista de listas em uam linha, mas é mais difícil ler o código:\n",
    "valores = [['4', '9', '7'], ['2', '7', '2'], ['6', '3', '5']]\n",
    "\n",
    "print(valores)"
   ]
  },
  {
   "cell_type": "code",
   "execution_count": 1,
   "metadata": {},
   "outputs": [
    {
     "name": "stdout",
     "output_type": "stream",
     "text": [
      "['Fábio', 'dos Reis', 44, 1.75]\n"
     ]
    }
   ],
   "source": [
    "# Criar lista com valores heterogêneos: nome, sobrenome, idade, altura\n",
    "\n",
    "cadastro = ['Fábio', 'dos Reis', 44, 1.75]\n",
    "print(cadastro)"
   ]
  },
  {
   "cell_type": "markdown",
   "metadata": {},
   "source": [
    "## Acessar elementos de uma lista\n",
    "\n",
    "Podemos referenciar um elemento em uma lista usando o nome da lista seguido do número de índice (posição) do elemento entre colchetes. Os números de índice iniciam a contagem em 0, sendo dessa forma 0 o índice do primeiro elemento da lista, 1 o índice do segundo elemento, e assim sucessivamente.\n",
    "\n",
    "![Lista em Python](imagens/listas-python.png)\n",
    "\n",
    "Elementos no final da lista podem ser acessados usando indices negativos, começando em -1:\n",
    "\n",
    "![Índices positivos e negativos](imagens/listas-python-indices.png)\n",
    "\n",
    "Os índices devem sempre ser números inteiros ou uma expressão que retorne um valor inteiro ou uma fatia. Tentar usar um índice não-inteiro causa um erro do tipo TypeError.\n"
   ]
  },
  {
   "cell_type": "code",
   "execution_count": 5,
   "metadata": {},
   "outputs": [
    {
     "data": {
      "text/plain": [
       "['2', '7', '2']"
      ]
     },
     "execution_count": 5,
     "metadata": {},
     "output_type": "execute_result"
    }
   ],
   "source": [
    "# Acesso a elementos\n",
    "\n",
    "# Podemos acessar elementos individuais na lista usando colchetes [] e números de índice d\n",
    "valores[0]\n",
    "\n",
    "# Elementos no final da lista podem ser acessados usando indices negativos, começando em -1:\n",
    "valores[-1]\n",
    "valores[-2]\n",
    "\n",
    "# Gerando erro ao usar índice não-inteiro. Descomente e rode para testar:\n",
    "#valores[2.5]"
   ]
  },
  {
   "cell_type": "code",
   "execution_count": 6,
   "metadata": {},
   "outputs": [
    {
     "data": {
      "text/plain": [
       "[['2', '7', '2'], ['6', '3', '5']]"
      ]
     },
     "execution_count": 6,
     "metadata": {},
     "output_type": "execute_result"
    }
   ],
   "source": [
    "# Fatiamento (\"Slicing\")\n",
    "# Podemos fatiar uma lista, ou seja, acessar um grupo sequencial de elementos de ma vez:\n",
    "valores[0:2]\n",
    "\n",
    "# Assim aecssamos os elementos que iniciam no índice 0 e terminam no índice 2, mas SEM incluir o elemento de índice 2.\n",
    "# Se o índice inicial não for informado, é assumido automaticamente como 0:\n",
    "valores[:2]\n",
    "\n",
    "# Se o índice final não for informado, é assumido automaticamente como o final da lista:\n",
    "valores[0:]\n",
    "\n",
    "# Os últimos dois elementos da lista:\n",
    "valores[-2:]"
   ]
  },
  {
   "cell_type": "code",
   "execution_count": null,
   "metadata": {},
   "outputs": [],
   "source": [
    "# Alterar valores em listas\n",
    "\n",
    "# Em Python, as listas são mutáveis, o que significa que seus valores armazenados podem ser alterados na própria lista.\n",
    "# Podemos modificar os valores em uma lista atribuindo um valor ou uma fatia.\n",
    "valores[0] = 9"
   ]
  },
  {
   "cell_type": "code",
   "execution_count": 8,
   "metadata": {},
   "outputs": [
    {
     "name": "stdout",
     "output_type": "stream",
     "text": [
      "[1]\n",
      "[2]\n",
      "[3]\n",
      "[4]\n",
      "[5]\n"
     ]
    },
    {
     "data": {
      "text/plain": [
       "[2, 3, 4, 1, 2, 3, 4, 5, 'B', 'ó', 's', 'o', 'n']"
      ]
     },
     "execution_count": 8,
     "metadata": {},
     "output_type": "execute_result"
    }
   ],
   "source": [
    "# Adicionar elementos a listas\n",
    "# Podemos adicionar elementos a uma lista usando o operador +=\n",
    "\n",
    "lista = []\n",
    "lista += [2,3,4]\n",
    "lista\n",
    "for num in range(1, 6):\n",
    "    lista += [num]\n",
    "lista\n",
    "\n",
    "# O elemento a ser adicionado deve ser iterável, como uma outra lista, uma tupla ou uma string.\n",
    "\n",
    "# Podemos também adicionar caracteres de uma string individuais/;\n",
    "lista += \"Bóson\"\n",
    "lista"
   ]
  },
  {
   "cell_type": "code",
   "execution_count": 11,
   "metadata": {},
   "outputs": [
    {
     "name": "stdout",
     "output_type": "stream",
     "text": [
      "11\n",
      "[-4, -1, 0, 0, 2, 2, 2, 3, 4, 6, 8]\n",
      "22\n",
      "-4\n",
      "8\n"
     ]
    }
   ],
   "source": [
    "# Funções em Listas\n",
    "\n",
    "valores = [2,6,8,3,-1,2,0,-4,2,0,4]\n",
    "\n",
    "# Função len(): Informa o comprimento de uma lista\n",
    "print(len(valores))\n",
    "\n",
    "# Função sorted(): retorna uma versão ordenada da lista (não modifica a lista em si)\n",
    "print(sorted(valores))\n",
    "\n",
    "# Função sum() retorna o somatório dos valores da lista:\n",
    "print(sum(valores))\n",
    "\n",
    "# Funções min() e max() retornam os valores mínimo e máximo da lista\n",
    "print(min(valores))\n",
    "print(max(valores))"
   ]
  },
  {
   "cell_type": "code",
   "execution_count": null,
   "metadata": {},
   "outputs": [],
   "source": [
    "# Métodos em Listas\n",
    "# Método append(): Modifica uma lista acrescentando um elemento ao seu final\n",
    "\n",
    "valores.append(12)\n",
    "\n",
    "#Método pop(): Remove e retorna o último elemento de uma lista\n",
    "valores.pop()\n",
    "\n",
    "# Método index(): Decobrir o número de índice de um elemento da lista\n",
    "valores.index(12)"
   ]
  },
  {
   "cell_type": "code",
   "execution_count": null,
   "metadata": {},
   "outputs": [],
   "source": [
    "# Verificar se um elemento está presente em uma lista\n",
    "# Podemos verificar se um valor está presente em uma lista com o operador in:\n",
    "12 in valores"
   ]
  },
  {
   "cell_type": "code",
   "execution_count": 7,
   "metadata": {},
   "outputs": [
    {
     "name": "stdout",
     "output_type": "stream",
     "text": [
      "azul\n",
      "vermelho\n",
      "amarelo\n",
      "verde\n",
      "roxo\n"
     ]
    }
   ],
   "source": [
    "# Iteração pelos elementos de umna lista\n",
    "# Podemos iterar pelos elementos de uma lista usando um laço for\n",
    "cores = ['azul','vermelho','amarelo','verde','roxo']\n",
    "for i in cores:\n",
    "    print(i)"
   ]
  },
  {
   "cell_type": "code",
   "execution_count": 5,
   "metadata": {},
   "outputs": [
    {
     "name": "stdout",
     "output_type": "stream",
     "text": [
      "['azul', 'vermelho', 'amarelo', 'verde', 'roxo', 'amarelo', 'branco', 'laranja']\n"
     ]
    }
   ],
   "source": [
    "# Concatenação de listas\n",
    "# Podemos criar ma nova lista concatenando duas listas existentes com o operador de concatenação +\n",
    "cores = ['azul','vermelho','amarelo','verde','roxo']\n",
    "maisCores = ['amarelo','branco','laranja']\n",
    "todasCores = cores + maisCores\n",
    "print(todasCores)"
   ]
  },
  {
   "cell_type": "code",
   "execution_count": 6,
   "metadata": {
    "collapsed": true
   },
   "outputs": [
    {
     "name": "stdout",
     "output_type": "stream",
     "text": [
      "<class 'list'>\n",
      "Arroz Feijão Bacon\n",
      "Arroz <class 'str'>\n"
     ]
    }
   ],
   "source": [
    "# Atribuir lista a variáveis isoladas atribui cada elemento da lista a uma variável, por meio de desempacotamento da lista.\n",
    "\n",
    "L = ['Arroz','Feijão','Bacon']\n",
    "print(type(L))\n",
    "\n",
    "a, b, c = L  # Cada elemento individual da lista é atribuído a uma variável (lista é desempacotada).\n",
    "print(a, b, c)\n",
    "print(a, type(a))"
   ]
  },
  {
   "cell_type": "code",
   "execution_count": null,
   "metadata": {},
   "outputs": [],
   "source": []
  }
 ],
 "metadata": {
  "kernelspec": {
   "display_name": "Python 3",
   "language": "python",
   "name": "python3"
  },
  "language_info": {
   "codemirror_mode": {
    "name": "ipython",
    "version": 3
   },
   "file_extension": ".py",
   "mimetype": "text/x-python",
   "name": "python",
   "nbconvert_exporter": "python",
   "pygments_lexer": "ipython3",
   "version": "3.8.5"
  }
 },
 "nbformat": 4,
 "nbformat_minor": 4
}
