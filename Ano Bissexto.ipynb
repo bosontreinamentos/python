{
 "cells": [
  {
   "cell_type": "code",
   "execution_count": null,
   "metadata": {},
   "outputs": [],
   "source": [
    "# Script para determinar se um dado ano é bissexto"
   ]
  },
  {
   "cell_type": "markdown",
   "metadata": {},
   "source": [
    "## O que é um ano bissexto?\n",
    "\n",
    "Um ano possui **365,24 dias** (365 dias + 05:48:46h, e não exatamente 365 dias).\n",
    "\n",
    "Assim, a cada quatro anos esse 1/4 de hora se acumula, perfazendo *um dia extra* - que precisa ser adicionado ao calendário para manter as datas corretas.\n",
    "\n",
    "Esse ano especial, que recebe um dia extra adicionado ao mês mais curto (fevereiro), é chamado de ***Ano Bissexto***.\n",
    "\n"
   ]
  },
  {
   "cell_type": "markdown",
   "metadata": {},
   "source": [
    "Como determinar se um ano é bissexto? Precisamos levar em conta dois casos:\n",
    "- Caso 1: O ano é divisível por 4, mas não é divisível por 100.\n",
    "- Caso 2: O ano é divisível por 4, por 100 e também por 400."
   ]
  },
  {
   "cell_type": "code",
   "execution_count": 7,
   "metadata": {},
   "outputs": [
    {
     "name": "stdout",
     "output_type": "stream",
     "text": [
      "Digite o ano:2092\n",
      "2092 é bissexto? True\n"
     ]
    }
   ],
   "source": [
    "# Script para determinar se um ano é bissexto\n",
    "\n",
    "def eBissexto(a):\n",
    "    if((a % 4 == 0) and (a % 100 != 0)):\n",
    "        return True\n",
    "    if ((a % 4 == 0) and (a % 100 == 0) and (a % 400 == 0)):\n",
    "        return True\n",
    "    return False\n",
    "\n",
    "ano = int(input('Digite o ano:'))\n",
    "print(f'{ano} é bissexto? {eBissexto(ano)}')\n"
   ]
  },
  {
   "cell_type": "markdown",
   "metadata": {},
   "source": [
    "Para testes - Lista de anos bissextos entre 1900 e 2050:\n",
    "\n",
    "**1904, 1908, 1912, 1916, 1920, 1924, 1928, 1932, 1936, 1940,\n",
    "1944, 1948, 1952, 1956, 1960, 1964, 1968, 1972, 1976, 1980,\n",
    "1984, 1988, 1992, 1996, 2000, 2004, 2008, 2012, 2016, 2020,\n",
    "2024, 2028, 2032, 2036, 2040, 2044, 2048**"
   ]
  }
 ],
 "metadata": {
  "kernelspec": {
   "display_name": "Python 3",
   "language": "python",
   "name": "python3"
  },
  "language_info": {
   "codemirror_mode": {
    "name": "ipython",
    "version": 3
   },
   "file_extension": ".py",
   "mimetype": "text/x-python",
   "name": "python",
   "nbconvert_exporter": "python",
   "pygments_lexer": "ipython3",
   "version": "3.7.3"
  }
 },
 "nbformat": 4,
 "nbformat_minor": 2
}
